{
 "cells": [
  {
   "cell_type": "markdown",
   "metadata": {},
   "source": [
    "# Extract text content and links from Wikipedia\n",
    "\n",
    "API documentations is here: https://www.mediawiki.org/wiki/API\n",
    "\n",
    "Some relevant pages are:\n",
    "- https://www.mediawiki.org/wiki/API:Parsing_wikitext\n",
    "- https://www.mediawiki.org/wiki/API:Get_the_contents_of_a_page"
   ]
  },
  {
   "cell_type": "code",
   "execution_count": 1,
   "metadata": {},
   "outputs": [],
   "source": [
    "import pickle as pkl\n",
    "import requests"
   ]
  },
  {
   "cell_type": "markdown",
   "metadata": {},
   "source": [
    "### Functions to get a list of page titles in a Wikipedia category and its subcategories, subsubcategories, etc\n",
    "\n",
    "Note these get **only** the page titles."
   ]
  },
  {
   "cell_type": "code",
   "execution_count": 2,
   "metadata": {},
   "outputs": [],
   "source": [
    "def catMembers(cat):\n",
    "    \"\"\" Get all page titles and subcategory titles from a wikipedia category \"\"\"\n",
    "    pagelist = []\n",
    "    subcatlist = []\n",
    "    base = 'https://en.wikipedia.org/w/api.php'\n",
    "    params = {'cmtitle' : cat,\n",
    "              'cmprop' : 'title',\n",
    "              'action' : 'query',\n",
    "              'list' : 'categorymembers',\n",
    "              'cmlimit' : 'max',\n",
    "              'format' : 'json'\n",
    "             }\n",
    "\n",
    "    catJson = requests.get(url = base, params = params).json()['query']['categorymembers']\n",
    "    for pg in range(len(catJson)):\n",
    "        if catJson[pg]['ns'] == 0:\n",
    "            pagelist.append(catJson[pg]['title'])\n",
    "        if catJson[pg]['ns'] == 14:\n",
    "            subcatlist.append(catJson[pg]['title'])\n",
    "    return pagelist, subcatlist\n",
    "\n",
    "\n",
    "def catSubcatPgs(cat, depth = 1):\n",
    "    \"\"\" Given a wikipedia category, get:\n",
    "        (1) Titles of pages in the category\n",
    "        (2) Titles of pages in all subcategories\n",
    "        (3) (optional) Titles of pages in all subsubcategories and deeper\n",
    "    cat : the name of the Wikipedia category to get data from\n",
    "    depth : how 'deep' to go, e.g. depth = 1 will get the\n",
    "            category and subcategory pages, depth = 2 will get category,\n",
    "            subcategory and subsubcategory pages, etc\n",
    "    Returns : a sorted list of titles, with any duplicates removed.\n",
    "    \"\"\"\n",
    "    pgs, subcats = catMembers(cat = cat)\n",
    "    for sc in subcats:\n",
    "        d = depth\n",
    "        subpgs, subsubcats = catMembers(cat = sc)\n",
    "        if subpgs is not None: pgs.extend(subpgs)\n",
    "\n",
    "        while d > 1:\n",
    "            cs = []\n",
    "            for ssc in subsubcats:\n",
    "                ssp, sssc = catMembers(cat = ssc)\n",
    "                if ssp is not None: pgs.extend(ssp)\n",
    "                if sssc is not None: cs.extend(sssc)\n",
    "            subsubcats = cs[:]\n",
    "            d -= 1\n",
    "    return(sorted(list(set(pgs))))"
   ]
  },
  {
   "cell_type": "markdown",
   "metadata": {},
   "source": [
    "### Functions to get text/links from a single Wikipedia page\n",
    "\n",
    "\n",
    "Known issues and limitations:\n",
    "1. Text in tables will not be returned. This is especially noticeable in pages such as 'List of ____' pages, most sections will be entirely empty. See [this stackoverflow link](https://stackoverflow.com/questions/40210536) for possible workarounds.\n",
    "2. Text in references/ending sections will often not be returned. This includes sections titled: 'References', 'Notes', 'Footnotes', 'Citations', 'Bibliography', 'Further Reading' (and maybe more if I've missed any). Note that 'References' is the only common one, others appear rarely. \n",
    "    - A workaround for the References section only can be done by:\n",
    "        - Extracting the list of sections in the page, e.g. https://en.wikipedia.org/w/api.php?action=parse&page=1st_Armoured_Regiment_(Australia)&prop=sections&format=json\n",
    "        - Finding where 'line' equals 'References' and noting the 'index' value\n",
    "        - Extracting the wikitext from this section, e.g. https://en.wikipedia.org/w/api.php?action=parse&page=1st_Armoured_Regiment_(Australia)&prop=wikitext&section=11&format=json\n",
    "        - Converting from the references format to plain text\n",
    "3. The plain text of links in 'External links' sections is returned but the actual URL it links to is rarely included. \n",
    "    - Workaround 1: \n",
    "        - Get all URLs from external links/references/notes/etc sections, e.g. https://en.wikipedia.org/w/api.php?action=parse&page=1st_Armoured_Regiment_(Australia)&prop=externallinks&format=json\n",
    "        - Limitations: gets more than just the external links section URLs; doesn't include any more info about the URL, e.g. which section it's referenced in or what it corresponds to\n",
    "    - Workaround 2 (probably better):\n",
    "        - Similar to the References section workaround, find the list of sections and note the index of the 'External links' line\n",
    "        - Extract the wikitext from this section\n",
    "        - Parse the result and make it look better. External links appear to all be in the first part, before the first double line break \\n\\n. Links are split by '\\n*'. After the double line break there's links to category pages, wrapped in double square brackets and split by single line breaks. They aren't actually part of the External Links section"
   ]
  },
  {
   "cell_type": "code",
   "execution_count": 7,
   "metadata": {},
   "outputs": [],
   "source": [
    "def getWikiPageText(title):\n",
    "    \"\"\" \n",
    "    Get plain text of a Wikipedia page (i.e. all html/markup tags removed)\n",
    "    Input : String containing page title\n",
    "    Returns : String containing article text\n",
    "    \"\"\"\n",
    "    \n",
    "    base = 'https://en.wikipedia.org/w/api.php'\n",
    "    params = {'titles' : title,\n",
    "              'prop' : 'extracts',\n",
    "              'action' : 'query',\n",
    "              'explaintext' : '1',\n",
    "              'redirects' : '1',\n",
    "              'format' : 'json'\n",
    "             }\n",
    "    txt = requests.get(url = base, params = params).json()['query']['pages']\n",
    "    return(txt[list(txt.keys())[0]]['extract'])\n",
    "\n",
    "\n",
    "def getWikiPageLinks(title):\n",
    "    \"\"\" Get the list of pages a Wikipedia page links to \"\"\"\n",
    "    \n",
    "    base = 'https://en.wikipedia.org/w/api.php'\n",
    "    params = {'page' : title,\n",
    "              'prop' : 'links',\n",
    "              'action' : 'parse',\n",
    "              'format' : 'json'\n",
    "             }\n",
    "    resp = requests.get(url = base, params = params).json()['parse']['links']\n",
    "    # Namespace (ns) 0 means articles\n",
    "    # Length 3 means the page will exist, because \"exists=''\" is only included if the page exists.\n",
    "    links = (title, [i['*'] for i in resp if i['ns']==0 and len(i)==3])\n",
    "    return(links)"
   ]
  },
  {
   "cell_type": "markdown",
   "metadata": {},
   "source": [
    "### Functions extending the above two, to get text/links from a list of Wiki pages"
   ]
  },
  {
   "cell_type": "code",
   "execution_count": 4,
   "metadata": {},
   "outputs": [],
   "source": [
    "def allWikiPageText(titles):\n",
    "    \"\"\"\n",
    "    Get the plain text from all Wikipedia pages provided in a list, and\n",
    "    include the start and end tokens (for GPT-2) in each article.\n",
    "    Input: List of Wikipedia page titles\n",
    "    Returns : String containing text from each article\n",
    "    \"\"\"\n",
    "    \n",
    "    text = ''\n",
    "    for ttl in titles:\n",
    "        # Begin articles with '== Article Start ==\\n' so GPT-2 learns it's the start.\n",
    "        # Same with <|endoftext|> to end them\n",
    "        text = text + '== Article Start ==\\n' + ttl + '\\n\\n\\n'+ getWikiPageText(ttl) + '\\n\\n<|endoftext|>\\n\\n\\n'\n",
    "    return(text[:-4])\n",
    "\n",
    "\n",
    "def allWikiPageLinks(titles):\n",
    "    \"\"\"\n",
    "    Get the list of pages a Wikipedia page links to, for each\n",
    "    page title provided in a list\n",
    "    Input: List of Wikipedia page titles\n",
    "    Returns : List of tuples of the form: (title, linkList) where\n",
    "            linkList is a list containing each of the linked page titles\n",
    "    \"\"\"\n",
    "    \n",
    "    links = []\n",
    "    for ttl in titles:\n",
    "        try:\n",
    "            links.append(getWikiPageLinks(ttl))\n",
    "        except:\n",
    "            print('Error getting page: ' + ttl)\n",
    "    return(links)"
   ]
  },
  {
   "cell_type": "markdown",
   "metadata": {},
   "source": [
    "## Example to extract page text + links from all pages in a category (and deeper)"
   ]
  },
  {
   "cell_type": "markdown",
   "metadata": {},
   "source": [
    "Set name of category we want to get data from:"
   ]
  },
  {
   "cell_type": "code",
   "execution_count": null,
   "metadata": {},
   "outputs": [],
   "source": [
    "cat = 'Category:Military of Australia'"
   ]
  },
  {
   "cell_type": "markdown",
   "metadata": {},
   "source": [
    "Get pages titles in the category, subcategories, subsubcategories, and subsubsubcategories (depth 3):"
   ]
  },
  {
   "cell_type": "code",
   "execution_count": null,
   "metadata": {},
   "outputs": [],
   "source": [
    "pageTitles = catSubcatPgs(cat = cat, depth = 3)\n",
    "print('Number of pages: ' + str(len(pageTitles)))"
   ]
  },
  {
   "cell_type": "markdown",
   "metadata": {},
   "source": [
    "Get plain text from each of the pages:"
   ]
  },
  {
   "cell_type": "code",
   "execution_count": null,
   "metadata": {},
   "outputs": [],
   "source": [
    "pageText = allWikiPageText(pageTitles)\n",
    "\n",
    "# Save result\n",
    "#with open('pageText.txt', 'w', encoding=\"utf-8\") as f:\n",
    "#    f.writelines(pageText)"
   ]
  },
  {
   "cell_type": "markdown",
   "metadata": {},
   "source": [
    "Get list of links from each of the pages:"
   ]
  },
  {
   "cell_type": "code",
   "execution_count": null,
   "metadata": {},
   "outputs": [],
   "source": [
    "pageLinks = allWikiPageLinks(pageTitles)\n",
    "\n",
    "# Save result\n",
    "#with open('pageLinks.pkl', 'wb') as f:\n",
    "#    pkl.dump(pageLinks, f)"
   ]
  },
  {
   "cell_type": "markdown",
   "metadata": {},
   "source": [
    "## Example output from a single page"
   ]
  },
  {
   "cell_type": "markdown",
   "metadata": {},
   "source": [
    "#### Page text:"
   ]
  },
  {
   "cell_type": "code",
   "execution_count": 5,
   "metadata": {
    "scrolled": false
   },
   "outputs": [
    {
     "data": {
      "text/plain": [
       "\"1st Armoured Regiment is an armoured regiment of the Australian Army and is the senior regiment of the Royal Australian Armoured Corps. Formed as a tank unit in the new Australian Regular Army on 7 July 1949, the regiment subsequently saw service during the Vietnam War operating Centurion tanks. Currently the unit is based in Edinburgh, South Australia as part of the 1st Brigade. As part of the Plan Beersheba reorganisation, the unit has become one of three Armoured Cavalry Regiments (ACRs) assigned to the Army's multirole combat brigades in Brisbane, Darwin and Townsville. Each ACR is equipped with M1A1 tanks and ASLAV light armoured vehicles.\\n\\n\\n== History ==\\n\\n\\n=== Formation ===\\nThe 1st Armoured Regiment was raised as a regular unit on 7 July 1949 at Puckapunyal in Victoria when the 1st Armoured Car Squadron, which had returned from occupation duties in Japan a few months earlier, was converted to a tank unit. The formation occurred following the renaming of a reserve unit of the Citizens Military Forces (CMF) of the same name, which subsequently became the 1st Royal New South Wales Lancers and its battle honours and history perpetuated by this unit, in order to reallocate the name to the tank regiment that was to be established in the new Australian Regular Army. At first only one squadron strong, planning commenced to expand to full strength as soon as possible under the command of Major Cecil Ives. Formal affiliation with the Royal Tank Regiment (RTR) was recognised two years later and the regiment adopted their regimental colours of Brown, Red and Green, which date back to the Battle of Cambrai during the First World War in 1917. These same colours had also been used by the Australian Tank Corps prior to the Second World War.Initially the new regiment was equipped with Churchill tanks, although this was only a temporary measure until Centurion tanks could be acquired. However, due to the perceived unsuitability of the Churchill and the late arrival of the new platform, the regiment was not deployed as part of Australia's commitment to the Korean War, although a number of officers served on exchange with British and US formations and the unit provided machine-gunners and signalers to Australian infantry battalions as reinforcements. The first Centurions finally began arriving in June 1952, with the regiment receiving 39 tanks. With the numbers of regular personnel steadily growing, it was possible to raise Regimental Headquarters, Headquarters Squadron and B Squadron, and the regiment was fully raised by 8 September 1952 under the command of Lieutenant Colonel Stuart Graham.Meanwhile, in September 1952 another tank squadron was raised. This was known as Nucleus Squadron and, based in Holsworthy, New South Wales, with the purpose of forming the basis of a second tank unit which was to be named the 2nd Armoured Regiment. In 1954 the regiment received it first Ferret MK 1 Scout Car, enabling the raising of Reconnaissance Troop. The following year 1st Armoured Regiment received the Saracen Armoured Personnel Carrier, and it was at this time that the intention to form another tank unit was abandoned, and Nucleus Squadron subsequently returned to the regiment as its third squadron, designated C Squadron.On 6 February 1956, the then Governor General, Field Marshal Sir William Slim, presented the regiment with its Guidon at a Regimental Parade held in Puckapunyal. Also in 1956 the regiment was equipped with the Centurion armoured recovery vehicle, allowing the retirement of the Churchill recovery vehicle. Following the expansion of the Royal Australian Armoured Corps (RAAC) in 1960, A Squadron was disbanded, reducing the regiment to two squadrons, and the majority of its personnel formed regular squadrons in the 4th/19th Prince of Wales' Light Horse and the 2nd/14th Light Horse (Queensland Mounted Infantry), which were predominantly CMF formations. These squadrons subsequently became part of the 1st Cavalry Regiment, which was later redesignated the 2nd Cavalry Regiment and in turn provided the nucleus for the newly raised 3rd Cavalry Regiment.\\n\\n\\n=== Vietnam War ===\\n\\nDuring 1964–65 the regiment provided most of the men for 1 Troop, A Squadron, 4th/19th Prince of Wales Light Horse, which was subsequently equipped with the new M113A1 Armoured Personnel Carrier (APC) and was deployed on active service to South Vietnam in May 1965. In October 1967 the Australian government announced it would increase the size of the 1st Australian Task Force (1 ATF) at Nui Dat in Phuoc Tuy Province from two to three infantry battalions, while additional supporting arms, including a tank squadron would also be added to the force. As such in February 1968, C Squadron was sent to Vietnam, with a total strength of 20 Centurion tanks which would work closely with the M113s of the 3rd Cavalry Regiment. However, two of the four tank troops were initially held back until the Centurions had proved themselves capable of operating in the conditions. The tank squadron reached full strength on 5 September 1968. Meanwhile, in May the regiment had again reached full strength, with A Squadron re-raised in order to meet the ongoing operational commitment.Over the next four years all three of the regiment's operational squadrons eventually served in Vietnam, providing invaluable close support to the infantry, particularly during the clearance of Viet Cong bunker systems. Although their value in Vietnam was originally questioned by some, they proved a powerful weapon in both offence and defence, and were responsible for limiting infantry casualties. The Centurions were able to move through the countryside more easily than expected and although they were vulnerable to anti-tank weapons and mines, their firepower and shock action had a decisive effect on the battlefield. In late-May 1968 the tanks played a significant role in the Battle of Coral–Balmoral. Occupying blocking positions in an attempt to thwart an impending communist offensive aimed at influencing the peace-talks, 1ATF deployed two battalions away from its base in Phuoc Tuy, subsequently developing Fire Support Base Coral north-east of Saigon, just east of Lai Khe on 12 May.Following several regimental-sized assaults on Coral which were successfully repelled by the Australians with heavy casualties on both sides, 1ATF moved to establish Fire Support Base Balmoral on 24–25 May, 6 kilometres (3.7 mi) north of Coral. The infantry were this time supported by Centurion tanks which had been called forward by road from Nui Dat and had arrived just hours before Balmoral was subjected to a two battalion attack. Following a very accurate rocket and mortar barrage at 03:45 hours on 26 May, the base was assaulted by North Vietnamese infantry. The attack was repelled with heavy casualties by the combined firepower of the tanks and infantry. The next day the Australians at Coral assaulted a number of bunkers located just outside the base, with a troop of Centurions supported by infantry destroying the bunkers and their occupants without loss. A second attack, again of regimental strength, was made against Balmoral at 02:30 hours on 28 May but was called off after only 30 minutes. The North Vietnamese were soundly defeated—again by the supporting fires of tanks, artillery and mortars—leaving 55 dead and resulted in six prisoners. Australian losses were one killed and six wounded. This performance demonstrated the advantage of using armour in Vietnam, and whereas before the battle some infantry had doubted the usefulness or necessity of the Centurions, after the battle the infantry did not like working without them. For its involvement in the fighting at Coral–Balmoral, 'C' Squadron was awarded a Unit Citation for Gallantry in 2018.In February 1969, C Squadron was relieved by B Squadron. On 6–7 June, B Squadron was involved in a fierce action during the Battle of Binh Ba, a village 5 kilometres (3.1 mi) north of Nui Dat. The attack began on the morning of 6 June when Australian tanks and APCs advanced with infantry from D Company, 5th Battalion, Royal Australian Regiment (5 RAR) towards the village which was being occupied by the Viet Cong and North Vietnamese. As the battle continued, B Company, 5 RAR took up a blocking position to prevent them from escaping. During fierce urban fighting the infantry were forced to clear each house, while the Communist troops occupying the houses fired on them from the windows and doorways before retreating into tunnels as the Australians passed. Each time the infantry were fired on, the tanks would blast a hole in the wall of the building, through which small teams could then enter and clear the structure of any opposition. The fighting continued throughout the afternoon, and resumed the next day before the Australians successfully cleared the village, the bulk of which was destroyed. One Australian was killed and 10 wounded, while communist losses included at least 107 killed, six wounded and eight captured.In December 1969, B Squadron was re-designated A Squadron, while in December 1970 A Squadron was in turn re-designated C Squadron. By late-1970 Australia was beginning to reduce its commitment to the war and the size of 1ATF was again reduced from three infantry battalions to two. The tanks, however, continued operations and were involved in heavy fighting at Long Khanh on 6–7 June 1971, as well as numerous smaller actions. The last elements of the regiment were subsequently withdrawn from Vietnam in September 1971. A total of 58 Centurions had served in Vietnam; 42 had suffered battle damage, of which six were beyond repair, while two crewmen had been killed in action.\\n\\n\\n=== Post-Vietnam to the present ===\\n\\nThe following years were traumatic for the regiment, and for the Australian Army, with the abolition of National Service after the end of Australian involvement in Vietnam depleting its strength to the point where training was severely restricted until it was reinforced during 1974. B Squadron was re-designated as the Medium Tank Trials Unit in 1972 and subsequently carried out extensive user and technical trials to evaluate the replacement for the ageing Centurions. In 1977 the Centurion was replaced in service by the Leopard 1, which had been selected over the American built M60 Patton. On 21 April 1981, the Colonel-in-Chief of the RAAC, The Prince of Wales, presented the unit with its first Regimental Standard. In 1995 the 1st Armoured Regiment moved from Puckapunyal to Darwin.On 13 July 2002, the regiment was presented with its current Standard by the then Governor General, Dr. Peter Hollingworth. On 26 July 2007, after 31 years of service the Leopard was replaced by 59 M1A1 Abrams AIM, with 41 being delivered to the regiment and the remaining vehicles issued to the School of Armour for use for training purposes. Seven M88A2 Hercules Armoured Recovery Vehicles were also acquired, two being delivered to the regiment. The Leopards never saw operational service, although during the 1999 East Timor crisis the regiment was placed on standby to deploy in the event the conflict escalated, while the regiment was not deployed during Australia's involvement in the 2003 invasion of Iraq. Members of the unit later deployed to Iraq and Afghanistan as Bushmaster PMV crews, while others have also served in East Timor and the Solomon Islands. During this period the regiment was the only main battle tank unit in the Australian Army and was based at Robertson Barracks, in Darwin. Until 2013 it provided the basis for one of three battlegroups within the mechanised 1st Brigade, which included two mechanised infantry battalions, one cavalry regiment, one tank regiment, and a medium artillery regiment.As part of the Plan Beersheba reorganisation, the unit has become one of three Armoured Cavalry Regiments (ACRs) assigned to the Army's multirole combat brigades in Brisbane, Darwin and Townsville. As an ACR, the unit was to be equipped with M1A1 tanks, ASLAV light armoured vehicles, and M113AS4 armoured personnel carriers. Under the reforms announced in 2011 and confirmed in the 2013 Defence White Paper, the three Regular Army brigades will be restructured between 2014 and 2017 into three Combat Brigades with a similar structure and capabilities, each consisting of: a Brigade Headquarters, an Armoured Cavalry Regiment, two Standard Infantry Battalions, an Artillery Regiment, a Combat Engineer Regiment, a Combat Service Support Battalion and a Combat Signals Regiment. In late 2015, one of the 1st Armoured Regiment's two tank squadrons was transferred to the Townsville-based 2nd Cavalry Regiment, with 14 of the tanks relocating. In 2017, the ACR structure was changed as part of what was named the workforce alignment of Plan Beersheba with the APCs transferred to infantry battalions. In October 2017, the 1st Armoured Regiment moved from Robertson Barracks in Darwin to RAAF Base Edinburgh in South Australia.\\n\\n\\n== Organisation ==\\n\\nFrom December 2017 the regiment was organised as follows:\\nHeadquarters Squadron\\nA Squadron – Cavalry (equipped with the ASLAV)\\nB Squadron  – Tank (equipped with the  M1A1 Abrams)\\nC Squadron – Cavalry (equipped with the ASLAV)\\nSupport Squadron\\n\\n\\n== Battle honours ==\\nVietnam War: Coral–Balmoral, Hat Dich, Binh Ba, Vietnam 1965–72.\\n\\n\\n== Alliances ==\\nUnited Kingdom – Royal Tank Regiment\\n\\n\\n== Notes ==\\n\\n\\n=== Footnotes ===\\n\\n\\n=== Citations ===\\n\\n\\n== References ==\\n\\n\\n== External links ==\\n1st Armoured Regiment Association\""
      ]
     },
     "execution_count": 5,
     "metadata": {},
     "output_type": "execute_result"
    }
   ],
   "source": [
    "getWikiPageText('1st Armoured Regiment (Australia)')\n",
    "\n",
    "# or to make it look nicer:\n",
    "# print(getWikiPageText('1st Armoured Regiment (Australia)'))"
   ]
  },
  {
   "cell_type": "markdown",
   "metadata": {},
   "source": [
    "#### Page links:"
   ]
  },
  {
   "cell_type": "code",
   "execution_count": 6,
   "metadata": {},
   "outputs": [
    {
     "data": {
      "text/plain": [
       "('1st Armoured Regiment (Australia)',\n",
       " ['10th Light Horse Regiment (Australia)',\n",
       "  '12th/16th Hunter River Lancers',\n",
       "  '15th Northern River Lancers',\n",
       "  '1st/15th Royal New South Wales Lancers',\n",
       "  '1st Armoured Car Squadron (Australia)',\n",
       "  '1st Australian Task Force',\n",
       "  '1st Brigade (Australia)',\n",
       "  '1st Royal New South Wales Lancers',\n",
       "  '2003 invasion of Iraq',\n",
       "  '2nd/14th Light Horse Regiment',\n",
       "  '2nd Cavalry Regiment (Australia)',\n",
       "  '3rd/4th Cavalry Regiment (Australia)',\n",
       "  '3rd/9th Light Horse (South Australian Mounted Rifles)',\n",
       "  \"4th/19th Prince of Wales' Light Horse\",\n",
       "  \"4th/19th Prince of Wales's Light Horse\",\n",
       "  '5th Battalion, Royal Australian Regiment',\n",
       "  'ASLAV',\n",
       "  'Aida',\n",
       "  'Alvis Saracen',\n",
       "  'Armoured recovery vehicle',\n",
       "  'Australian 1st Brigade',\n",
       "  'Australian Army',\n",
       "  'Australian Army Reserve',\n",
       "  'Australian Medium Tank Trials Unit',\n",
       "  'Battalion',\n",
       "  'Battle of Binh Ba',\n",
       "  'Battle of Cambrai (1917)',\n",
       "  'Battle of Coral–Balmoral',\n",
       "  'Battle of Hat Dich',\n",
       "  'Battle of Long Khanh',\n",
       "  'Battlegroup (army)',\n",
       "  'Bushmaster PMV',\n",
       "  'Centurion tank',\n",
       "  'Charles, Prince of Wales',\n",
       "  'Churchill tank',\n",
       "  'Colours, standards and guidons',\n",
       "  'Conscription in Australia',\n",
       "  'Edinburgh, South Australia',\n",
       "  'Ferret armoured car',\n",
       "  'Field Marshal',\n",
       "  'First World War',\n",
       "  'Gary McKay',\n",
       "  'Governor General',\n",
       "  'Holsworthy, New South Wales',\n",
       "  'ISBN (identifier)',\n",
       "  'ISSN (identifier)',\n",
       "  'International Force for East Timor',\n",
       "  'Korean War',\n",
       "  'Lai Khe',\n",
       "  'Latin language',\n",
       "  'Leopard 1',\n",
       "  'Leopard AS1',\n",
       "  'M-113',\n",
       "  'M113 armored personnel carriers in Australian service',\n",
       "  'M1 Abrams',\n",
       "  'M60 Patton',\n",
       "  'M88 Recovery Vehicle',\n",
       "  'Main battle tank',\n",
       "  'Mechanised infantry',\n",
       "  'Nui Dat',\n",
       "  'OCLC (identifier)',\n",
       "  'Peter Hollingworth',\n",
       "  'Phuoc Tuy Province',\n",
       "  'Plan Beersheba',\n",
       "  'Puckapunyal',\n",
       "  'Queensland',\n",
       "  'RAAF Base Edinburgh',\n",
       "  'Radetzky March',\n",
       "  'Regiment',\n",
       "  'Regular army',\n",
       "  'Robertson Barracks',\n",
       "  'Roger Powell (general)',\n",
       "  'Ronald Hopkins',\n",
       "  'Royal Australian Armoured Corps',\n",
       "  'Royal Tank Regiment',\n",
       "  'Second Boer War',\n",
       "  'Second World War',\n",
       "  'Squadron (cavalry)',\n",
       "  'Stuart Clarence Graham',\n",
       "  'Troop',\n",
       "  'Unit Citation for Gallantry',\n",
       "  'Victoria, Australia',\n",
       "  'Viet Cong',\n",
       "  'Vietnam War',\n",
       "  'Vietnam war',\n",
       "  'Vung Tau',\n",
       "  'William Slim'])"
      ]
     },
     "execution_count": 6,
     "metadata": {},
     "output_type": "execute_result"
    }
   ],
   "source": [
    "getWikiPageLinks('1st Armoured Regiment (Australia)')"
   ]
  }
 ],
 "metadata": {
  "kernelspec": {
   "display_name": "Python 3",
   "language": "python",
   "name": "python3"
  },
  "language_info": {
   "codemirror_mode": {
    "name": "ipython",
    "version": 3
   },
   "file_extension": ".py",
   "mimetype": "text/x-python",
   "name": "python",
   "nbconvert_exporter": "python",
   "pygments_lexer": "ipython3",
   "version": "3.7.4"
  }
 },
 "nbformat": 4,
 "nbformat_minor": 2
}
