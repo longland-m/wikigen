{
 "cells": [
  {
   "cell_type": "markdown",
   "metadata": {},
   "source": [
    "# Make a dataset of subgraphs sampled from a larger network"
   ]
  },
  {
   "cell_type": "markdown",
   "metadata": {},
   "source": [
    "This notebook shows how to format the Wikipedia link dataset gathered from `get_wiki_data.ipynb` as a network using NetworkX and sample egocentric subgraphs from it."
   ]
  },
  {
   "cell_type": "code",
   "execution_count": null,
   "metadata": {},
   "outputs": [],
   "source": [
    "import networkx as nx\n",
    "import pickle as pkl\n",
    "import random"
   ]
  },
  {
   "cell_type": "code",
   "execution_count": null,
   "metadata": {},
   "outputs": [],
   "source": [
    "def egoGraph(graph, node=None, returnNodeName=False):\n",
    "    \"\"\" \n",
    "    Get the ego graph centred at the specified node, or a random node if \n",
    "    no node specified. Distance 1 from centre only.\n",
    "    \n",
    "    graph: the graph to sample from\n",
    "    node: the name of the node at the centre of the graph, or None to choose a random node\n",
    "    returnNodeName: whether to also return the name of the centre node. If randomly\n",
    "        selecting a node, this will be necessary to know exactly which one was selected\n",
    "    \"\"\"\n",
    "    if node is None:\n",
    "        node = random.choice(list(graph.nodes()))\n",
    "    egoGraph = nx.generators.ego.ego_graph(graph, randnode)\n",
    "    if returnNodeName:\n",
    "        return egoGraph, node\n",
    "    else:\n",
    "        return egoGraph"
   ]
  },
  {
   "cell_type": "markdown",
   "metadata": {},
   "source": [
    "## Load link dataset and format as edgelist"
   ]
  },
  {
   "cell_type": "code",
   "execution_count": null,
   "metadata": {},
   "outputs": [],
   "source": [
    "pageLinks = pkl.load(open('pageLinks.pkl', 'rb'))\n",
    "pageTitles = pkl.load(open('pageTitles.pkl', 'rb'))"
   ]
  },
  {
   "cell_type": "markdown",
   "metadata": {},
   "source": [
    "Create edgelist from all articles:"
   ]
  },
  {
   "cell_type": "code",
   "execution_count": null,
   "metadata": {},
   "outputs": [],
   "source": [
    "edgeList1 = []\n",
    "for i in pageLinks:\n",
    "    edgeList1.extend(list(zip([i[0]]*len(i[1]), i[1])))"
   ]
  },
  {
   "cell_type": "markdown",
   "metadata": {},
   "source": [
    "Remove edges if it links to a page that wasn't in the original list (optional):"
   ]
  },
  {
   "cell_type": "code",
   "execution_count": null,
   "metadata": {},
   "outputs": [],
   "source": [
    "edgeList2 = [i for i in edgeList1 if i[0] in pageTitles and i[1] in pageTitles]"
   ]
  },
  {
   "cell_type": "markdown",
   "metadata": {},
   "source": [
    "Remove self-edges:"
   ]
  },
  {
   "cell_type": "code",
   "execution_count": null,
   "metadata": {},
   "outputs": [],
   "source": [
    "edgeList3 = [i for i in edgeList2 if i[0] != i[1]]"
   ]
  },
  {
   "cell_type": "markdown",
   "metadata": {},
   "source": [
    "Format as undirected NetworkX Graph:"
   ]
  },
  {
   "cell_type": "code",
   "execution_count": null,
   "metadata": {},
   "outputs": [],
   "source": [
    "graph = nx.Graph(edgeList3)"
   ]
  },
  {
   "cell_type": "markdown",
   "metadata": {},
   "source": [
    "## Sample subgraphs"
   ]
  },
  {
   "cell_type": "markdown",
   "metadata": {},
   "source": [
    "Single example:"
   ]
  },
  {
   "cell_type": "code",
   "execution_count": null,
   "metadata": {},
   "outputs": [],
   "source": [
    "egoNet, centrePage = egoGraph(graph = graph, node = None, returnNodeName = True)\n",
    "print(centrePage)\n",
    "nx.draw(egoNet)"
   ]
  },
  {
   "cell_type": "markdown",
   "metadata": {},
   "source": [
    "#### Make graph dataset\n",
    "\n",
    "Nodes won't be sampled more than once.\n",
    "\n",
    "- numGraphs = number of graphs to sample\n",
    "- minNodes = minimum number of nodes the ego graphs should have\n",
    "- maxNodes = maximum number of nodes the ego graphs should have"
   ]
  },
  {
   "cell_type": "code",
   "execution_count": null,
   "metadata": {},
   "outputs": [],
   "source": [
    "numGraphs = 150\n",
    "minNodes = 15\n",
    "maxNodes = 50\n",
    "\n",
    "nets = []\n",
    "centrePages = []\n",
    "while len(nets) < numGraphs:\n",
    "    tempNet, tempPage = egoGraph(graph = graph, node = None, returnNodeName = True)\n",
    "    if len(tempNet) > minNodes and len(tempNet) < maxNodes and tempPage not in centrePages:\n",
    "        nets.append(tempNet)\n",
    "        centrePages.append(tempPage)"
   ]
  },
  {
   "cell_type": "code",
   "execution_count": null,
   "metadata": {},
   "outputs": [],
   "source": [
    "# save dataset\n",
    "#pkl.dump(nets, open('graphDataset.pkl', 'wb'))"
   ]
  }
 ],
 "metadata": {
  "kernelspec": {
   "display_name": "Python 3",
   "language": "python",
   "name": "python3"
  },
  "language_info": {
   "codemirror_mode": {
    "name": "ipython",
    "version": 3
   },
   "file_extension": ".py",
   "mimetype": "text/x-python",
   "name": "python",
   "nbconvert_exporter": "python",
   "pygments_lexer": "ipython3",
   "version": "3.7.4"
  }
 },
 "nbformat": 4,
 "nbformat_minor": 2
}
